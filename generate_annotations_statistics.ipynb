{
 "cells": [
  {
   "cell_type": "code",
   "execution_count": 5,
   "metadata": {},
   "outputs": [],
   "source": [
    "import pandas as pd"
   ]
  },
  {
   "cell_type": "code",
   "execution_count": 6,
   "metadata": {},
   "outputs": [],
   "source": [
    "dataset_path = 'data/pleno_seguros_2a_instancia/golden-annotation/'"
   ]
  },
  {
   "cell_type": "code",
   "execution_count": 7,
   "metadata": {},
   "outputs": [],
   "source": [
    "filename_list = [dataset_path + 'cross-validation.csv',\n",
    "                 dataset_path + 'test.csv']"
   ]
  },
  {
   "cell_type": "code",
   "execution_count": 8,
   "metadata": {},
   "outputs": [
    {
     "name": "stdout",
     "output_type": "stream",
     "text": [
      "Filename: \"data/pleno_seguros_2a_instancia/golden-annotation/cross-validation.csv\"\n",
      "Column \"#excluiu\" has #144 entities\n",
      "Column \"#reembolso\" has #44 entities\n",
      "Column \"#valor_dano_moral\" has #546 entities\n",
      "Column \"#valor_honorarios\" has #439 entities\n",
      "Column \"#valor_reembolso\" has #110 entities\n",
      "\n",
      "Filename: \"data/pleno_seguros_2a_instancia/golden-annotation/test.csv\"\n",
      "Column \"#excluiu\" has #21 entities\n",
      "Column \"#reembolso\" has #15 entities\n",
      "Column \"#valor_dano_moral\" has #99 entities\n",
      "Column \"#valor_honorarios\" has #75 entities\n",
      "Column \"#valor_reembolso\" has #16 entities\n",
      "\n"
     ]
    }
   ],
   "source": [
    "for filename in filename_list:\n",
    "    df = pd.read_csv(filename, sep=';')\n",
    "    print('Filename: \\\"%s\\\"' % filename)\n",
    "    for column_name in df:\n",
    "        if column_name.startswith('#'):\n",
    "            column_with_elements = df[column_name].dropna()\n",
    "\n",
    "            number_of_entities = 0\n",
    "\n",
    "            for element in column_with_elements:\n",
    "                number_of_entities += 1 + element.count('\\n')\n",
    "\n",
    "            print('Column \\\"%s\\\" has #%d entities' % (column_name, number_of_entities))\n",
    "    print('')"
   ]
  },
  {
   "cell_type": "code",
   "execution_count": null,
   "metadata": {},
   "outputs": [],
   "source": []
  }
 ],
 "metadata": {
  "kernelspec": {
   "display_name": "Python 3",
   "language": "python",
   "name": "python3"
  },
  "language_info": {
   "codemirror_mode": {
    "name": "ipython",
    "version": 3
   },
   "file_extension": ".py",
   "mimetype": "text/x-python",
   "name": "python",
   "nbconvert_exporter": "python",
   "pygments_lexer": "ipython3",
   "version": "3.5.3"
  }
 },
 "nbformat": 4,
 "nbformat_minor": 2
}
