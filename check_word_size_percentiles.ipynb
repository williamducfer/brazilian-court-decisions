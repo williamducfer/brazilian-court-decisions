{
 "cells": [
  {
   "cell_type": "code",
   "execution_count": 16,
   "metadata": {},
   "outputs": [],
   "source": [
    "import pandas as pd\n",
    "import csv"
   ]
  },
  {
   "cell_type": "code",
   "execution_count": 17,
   "metadata": {},
   "outputs": [],
   "source": [
    "data_file_path = 'data/kp_segunda_instancia/training.csv'"
   ]
  },
  {
   "cell_type": "code",
   "execution_count": 18,
   "metadata": {},
   "outputs": [
    {
     "data": {
      "text/html": [
       "<div>\n",
       "<style scoped>\n",
       "    .dataframe tbody tr th:only-of-type {\n",
       "        vertical-align: middle;\n",
       "    }\n",
       "\n",
       "    .dataframe tbody tr th {\n",
       "        vertical-align: top;\n",
       "    }\n",
       "\n",
       "    .dataframe thead th {\n",
       "        text-align: right;\n",
       "    }\n",
       "</style>\n",
       "<table border=\"1\" class=\"dataframe\">\n",
       "  <thead>\n",
       "    <tr style=\"text-align: right;\">\n",
       "      <th></th>\n",
       "      <th>word</th>\n",
       "      <th>target</th>\n",
       "      <th>filename</th>\n",
       "      <th>sentence_number</th>\n",
       "    </tr>\n",
       "  </thead>\n",
       "  <tbody>\n",
       "    <tr>\n",
       "      <td>0</td>\n",
       "      <td>a</td>\n",
       "      <td>o</td>\n",
       "      <td>0014197-64.2014.8.19.0001.txt</td>\n",
       "      <td>0</td>\n",
       "    </tr>\n",
       "    <tr>\n",
       "      <td>1</td>\n",
       "      <td>)</td>\n",
       "      <td>o</td>\n",
       "      <td>0014197-64.2014.8.19.0001.txt</td>\n",
       "      <td>0</td>\n",
       "    </tr>\n",
       "    <tr>\n",
       "      <td>2</td>\n",
       "      <td>negar</td>\n",
       "      <td>o</td>\n",
       "      <td>0014197-64.2014.8.19.0001.txt</td>\n",
       "      <td>0</td>\n",
       "    </tr>\n",
       "    <tr>\n",
       "      <td>3</td>\n",
       "      <td>provimento</td>\n",
       "      <td>o</td>\n",
       "      <td>0014197-64.2014.8.19.0001.txt</td>\n",
       "      <td>0</td>\n",
       "    </tr>\n",
       "    <tr>\n",
       "      <td>4</td>\n",
       "      <td>a</td>\n",
       "      <td>o</td>\n",
       "      <td>0014197-64.2014.8.19.0001.txt</td>\n",
       "      <td>0</td>\n",
       "    </tr>\n",
       "  </tbody>\n",
       "</table>\n",
       "</div>"
      ],
      "text/plain": [
       "         word target                       filename  sentence_number\n",
       "0           a      o  0014197-64.2014.8.19.0001.txt                0\n",
       "1           )      o  0014197-64.2014.8.19.0001.txt                0\n",
       "2       negar      o  0014197-64.2014.8.19.0001.txt                0\n",
       "3  provimento      o  0014197-64.2014.8.19.0001.txt                0\n",
       "4           a      o  0014197-64.2014.8.19.0001.txt                0"
      ]
     },
     "execution_count": 18,
     "metadata": {},
     "output_type": "execute_result"
    }
   ],
   "source": [
    "df = pd.read_csv(data_file_path, sep='\\t', quoting=csv.QUOTE_NONE, header=0, index_col=False)\n",
    "\n",
    "df.head()"
   ]
  },
  {
   "cell_type": "code",
   "execution_count": 19,
   "metadata": {},
   "outputs": [
    {
     "data": {
      "text/html": [
       "<div>\n",
       "<style scoped>\n",
       "    .dataframe tbody tr th:only-of-type {\n",
       "        vertical-align: middle;\n",
       "    }\n",
       "\n",
       "    .dataframe tbody tr th {\n",
       "        vertical-align: top;\n",
       "    }\n",
       "\n",
       "    .dataframe thead th {\n",
       "        text-align: right;\n",
       "    }\n",
       "</style>\n",
       "<table border=\"1\" class=\"dataframe\">\n",
       "  <thead>\n",
       "    <tr style=\"text-align: right;\">\n",
       "      <th></th>\n",
       "      <th>word</th>\n",
       "      <th>target</th>\n",
       "      <th>filename</th>\n",
       "      <th>sentence_number</th>\n",
       "      <th>word_size</th>\n",
       "    </tr>\n",
       "  </thead>\n",
       "  <tbody>\n",
       "    <tr>\n",
       "      <td>0</td>\n",
       "      <td>a</td>\n",
       "      <td>o</td>\n",
       "      <td>0014197-64.2014.8.19.0001.txt</td>\n",
       "      <td>0</td>\n",
       "      <td>1</td>\n",
       "    </tr>\n",
       "    <tr>\n",
       "      <td>1</td>\n",
       "      <td>)</td>\n",
       "      <td>o</td>\n",
       "      <td>0014197-64.2014.8.19.0001.txt</td>\n",
       "      <td>0</td>\n",
       "      <td>1</td>\n",
       "    </tr>\n",
       "    <tr>\n",
       "      <td>2</td>\n",
       "      <td>negar</td>\n",
       "      <td>o</td>\n",
       "      <td>0014197-64.2014.8.19.0001.txt</td>\n",
       "      <td>0</td>\n",
       "      <td>5</td>\n",
       "    </tr>\n",
       "    <tr>\n",
       "      <td>3</td>\n",
       "      <td>provimento</td>\n",
       "      <td>o</td>\n",
       "      <td>0014197-64.2014.8.19.0001.txt</td>\n",
       "      <td>0</td>\n",
       "      <td>10</td>\n",
       "    </tr>\n",
       "    <tr>\n",
       "      <td>4</td>\n",
       "      <td>a</td>\n",
       "      <td>o</td>\n",
       "      <td>0014197-64.2014.8.19.0001.txt</td>\n",
       "      <td>0</td>\n",
       "      <td>1</td>\n",
       "    </tr>\n",
       "  </tbody>\n",
       "</table>\n",
       "</div>"
      ],
      "text/plain": [
       "         word target                       filename  sentence_number  \\\n",
       "0           a      o  0014197-64.2014.8.19.0001.txt                0   \n",
       "1           )      o  0014197-64.2014.8.19.0001.txt                0   \n",
       "2       negar      o  0014197-64.2014.8.19.0001.txt                0   \n",
       "3  provimento      o  0014197-64.2014.8.19.0001.txt                0   \n",
       "4           a      o  0014197-64.2014.8.19.0001.txt                0   \n",
       "\n",
       "   word_size  \n",
       "0          1  \n",
       "1          1  \n",
       "2          5  \n",
       "3         10  \n",
       "4          1  "
      ]
     },
     "execution_count": 19,
     "metadata": {},
     "output_type": "execute_result"
    }
   ],
   "source": [
    "df['word_size'] = df.word.apply(lambda x: len(str(x)))\n",
    "\n",
    "df.head()"
   ]
  },
  {
   "cell_type": "code",
   "execution_count": 20,
   "metadata": {},
   "outputs": [
    {
     "data": {
      "text/plain": [
       "0.1    1.0\n",
       "0.2    1.0\n",
       "0.3    1.0\n",
       "0.4    2.0\n",
       "0.5    2.0\n",
       "0.6    4.0\n",
       "0.7    5.0\n",
       "0.8    7.0\n",
       "0.9    9.0\n",
       "Name: word_size, dtype: float64"
      ]
     },
     "execution_count": 20,
     "metadata": {},
     "output_type": "execute_result"
    }
   ],
   "source": [
    "df.word_size.quantile([0.1, 0.2, 0.3, 0.4, 0.5, 0.6, 0.7, 0.8, 0.9])"
   ]
  }
 ],
 "metadata": {
  "kernelspec": {
   "display_name": "Python 3",
   "language": "python",
   "name": "python3"
  },
  "language_info": {
   "codemirror_mode": {
    "name": "ipython",
    "version": 3
   },
   "file_extension": ".py",
   "mimetype": "text/x-python",
   "name": "python",
   "nbconvert_exporter": "python",
   "pygments_lexer": "ipython3",
   "version": "3.5.3"
  }
 },
 "nbformat": 4,
 "nbformat_minor": 2
}
